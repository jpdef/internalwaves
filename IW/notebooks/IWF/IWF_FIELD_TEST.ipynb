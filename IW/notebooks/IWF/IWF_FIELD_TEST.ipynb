{
 "cells": [
  {
   "cell_type": "code",
   "execution_count": 110,
   "metadata": {},
   "outputs": [
    {
     "name": "stdout",
     "output_type": "stream",
     "text": [
      "The autoreload extension is already loaded. To reload it, use:\n",
      "  %reload_ext autoreload\n",
      "Intializing wavefield\n",
      "[2.23611111e-05]\n"
     ]
    }
   ],
   "source": [
    "%load_ext autoreload\n",
    "%autoreload 1 \n",
    "\n",
    "import json\n",
    "import sys\n",
    "sys.path.append('../src')\n",
    "\n",
    "from iw_field import InternalWaveField\n",
    "\n",
    "#config_fname = \"../config/examples/simple_M2.json\" \n",
    "config_fname = \"../config/sound_experiment/sound_prof3.json\" \n",
    "\n",
    "#Read Sim Params\n",
    "with open(config_fname) as param_file:\n",
    "    p = json.load(param_file)\n",
    "\n",
    "\n",
    "#Spacial Params\n",
    "iwrange = np.linspace(0,p['range_end'],p['range_res'])\n",
    "iwdepth = np.linspace(0,p['depth_end'],p['depth_res'])\n",
    "\n",
    "\n",
    "#Frequency Distrubution (non radial)\n",
    "freqs = np.array(p['freqs'])/3600\n",
    "modes = np.array(p['modes'])\n",
    "amps_real  = p['amps_real'] \n",
    "amps_imag  = p['amps_imag']\n",
    "headings   = p['headings']\n",
    "\n",
    "\n",
    "amps = []\n",
    "for i,a in enumerate(amps_real):\n",
    "    zz = list(zip(a,amps_imag[i],headings[i]))\n",
    "    amps.append(    { 'amps' : [ complex(z[0],z[1]) for z in zz],\n",
    "                      'headings': [np.pi*z[2]/180 for z in zz]} )\n",
    "\n",
    "#Make wave field\n",
    "iwf = InternalWaveField(iwrange,iwdepth,\n",
    "                        freqs=freqs,\n",
    "                        modes=modes,\n",
    "                        amplitudes=amps)\n",
    "\n"
   ]
  },
  {
   "cell_type": "code",
   "execution_count": 74,
   "metadata": {},
   "outputs": [
    {
     "name": "stdout",
     "output_type": "stream",
     "text": [
      "0 0\n"
     ]
    },
    {
     "ename": "IndexError",
     "evalue": "index 50 is out of bounds for axis 0 with size 25",
     "output_type": "error",
     "traceback": [
      "\u001b[0;31m---------------------------------------------------------------------------\u001b[0m",
      "\u001b[0;31mIndexError\u001b[0m                                Traceback (most recent call last)",
      "\u001b[0;32m<ipython-input-74-25d3ccfa2842>\u001b[0m in \u001b[0;36m<module>\u001b[0;34m\u001b[0m\n\u001b[1;32m     11\u001b[0m     \u001b[0mj\u001b[0m \u001b[0;34m=\u001b[0m \u001b[0mint\u001b[0m\u001b[0;34m(\u001b[0m\u001b[0mnp\u001b[0m\u001b[0;34m.\u001b[0m\u001b[0mfloor\u001b[0m\u001b[0;34m(\u001b[0m\u001b[0mi\u001b[0m\u001b[0;34m/\u001b[0m\u001b[0;36m2\u001b[0m\u001b[0;34m)\u001b[0m\u001b[0;34m)\u001b[0m\u001b[0;34m\u001b[0m\u001b[0;34m\u001b[0m\u001b[0m\n\u001b[1;32m     12\u001b[0m     \u001b[0mprint\u001b[0m\u001b[0;34m(\u001b[0m\u001b[0mk\u001b[0m\u001b[0;34m,\u001b[0m\u001b[0mj\u001b[0m\u001b[0;34m)\u001b[0m\u001b[0;34m\u001b[0m\u001b[0;34m\u001b[0m\u001b[0m\n\u001b[0;32m---> 13\u001b[0;31m     \u001b[0mp\u001b[0m \u001b[0;34m=\u001b[0m \u001b[0maxs\u001b[0m\u001b[0;34m[\u001b[0m\u001b[0mk\u001b[0m\u001b[0;34m,\u001b[0m\u001b[0mj\u001b[0m\u001b[0;34m]\u001b[0m\u001b[0;34m.\u001b[0m\u001b[0mcontourf\u001b[0m\u001b[0;34m(\u001b[0m \u001b[0miwf\u001b[0m\u001b[0;34m.\u001b[0m\u001b[0mfield\u001b[0m\u001b[0;34m[\u001b[0m\u001b[0;36m50\u001b[0m\u001b[0;34m,\u001b[0m\u001b[0;34m:\u001b[0m\u001b[0;34m,\u001b[0m\u001b[0;34m:\u001b[0m\u001b[0;34m]\u001b[0m\u001b[0;34m[\u001b[0m\u001b[0mparam\u001b[0m\u001b[0;34m]\u001b[0m\u001b[0;34m.\u001b[0m\u001b[0mreal\u001b[0m\u001b[0;34m)\u001b[0m\u001b[0;34m\u001b[0m\u001b[0;34m\u001b[0m\u001b[0m\n\u001b[0m\u001b[1;32m     14\u001b[0m     \u001b[0maxs\u001b[0m\u001b[0;34m[\u001b[0m\u001b[0mk\u001b[0m\u001b[0;34m,\u001b[0m\u001b[0mj\u001b[0m\u001b[0;34m]\u001b[0m\u001b[0;34m.\u001b[0m\u001b[0mset_title\u001b[0m\u001b[0;34m(\u001b[0m\u001b[0mparam\u001b[0m\u001b[0;34m)\u001b[0m\u001b[0;34m\u001b[0m\u001b[0;34m\u001b[0m\u001b[0m\n\u001b[1;32m     15\u001b[0m     \u001b[0mf\u001b[0m\u001b[0;34m.\u001b[0m\u001b[0mcolorbar\u001b[0m\u001b[0;34m(\u001b[0m\u001b[0mp\u001b[0m\u001b[0;34m,\u001b[0m\u001b[0max\u001b[0m\u001b[0;34m=\u001b[0m\u001b[0maxs\u001b[0m\u001b[0;34m[\u001b[0m\u001b[0mk\u001b[0m\u001b[0;34m,\u001b[0m\u001b[0mj\u001b[0m\u001b[0;34m]\u001b[0m\u001b[0;34m,\u001b[0m\u001b[0mformat\u001b[0m\u001b[0;34m=\u001b[0m\u001b[0;34m'%.0e'\u001b[0m\u001b[0;34m)\u001b[0m\u001b[0;34m\u001b[0m\u001b[0;34m\u001b[0m\u001b[0m\n",
      "\u001b[0;31mIndexError\u001b[0m: index 50 is out of bounds for axis 0 with size 25"
     ]
    },
    {
     "data": {
      "image/png": "[encoded data removed]",
      "text/plain": [
       "<Figure size 432x288 with 6 Axes>"
      ]
     },
     "metadata": {
      "needs_background": "light"
     },
     "output_type": "display_data"
    }
   ],
   "source": [
    "from mpl_toolkits.mplot3d import Axes3D\n",
    "import numpy as np\n",
    "import matplotlib.pyplot as plt\n",
    "\n",
    "\n",
    "f,axs = plt.subplots(2,3)\n",
    "f.subplots_adjust(hspace=0.5,wspace=0.5)\n",
    "\n",
    "for i,param in enumerate(iwf.field.dtype.fields.keys()):\n",
    "    k = i%2\n",
    "    j = int(np.floor(i/2))\n",
    "    print(k,j)\n",
    "    p = axs[k,j].contourf( iwf.field[50,:,:][param].real)\n",
    "    axs[k,j].set_title(param)\n",
    "    f.colorbar(p,ax=axs[k,j],format='%.0e')\n",
    "\n",
    "f.set_size_inches(10,7)\n"
   ]
  },
  {
   "cell_type": "code",
   "execution_count": 82,
   "metadata": {},
   "outputs": [
    {
     "data": {
      "image/png": "[encoded data removed]",
      "text/plain": [
       "<Figure size 432x288 with 1 Axes>"
      ]
     },
     "metadata": {
      "needs_background": "light"
     },
     "output_type": "display_data"
    }
   ],
   "source": [
    "%matplotlib inline\n",
    "from mpl_toolkits.mplot3d import Axes3D\n",
    "import numpy as np\n",
    "import matplotlib.pyplot as plt\n",
    "\n",
    "plt.close('all')\n",
    "fig = plt.figure()\n",
    "ax = fig.gca(projection='3d')\n",
    "\n",
    "x = np.linspace(0,1, len(iwf.range) )\n",
    "y = np.linspace(0,1, len(iwf.range) )\n",
    "z = np.linspace(0,1, len(iwf.depth) )\n",
    "\n",
    "cset = [[],[],[]]\n",
    "\n",
    "## TOP FACE\n",
    "X, Y = np.meshgrid(x, y)\n",
    "Z = iwf.field[0,:,:]['w'].real\n",
    "cset[0] = ax.contourf(X, Y, Z, zdir='z',  offset=0)\n",
    "#\n",
    "\n",
    "#Along X\n",
    "X, Y = np.meshgrid(z , x )\n",
    "Z = iwf.field[:,0,:]['w'].real\n",
    "cset[1] = ax.contourf(Z, X, Y,  zdir='x', offset=0)\n",
    "\n",
    "#Along Y\n",
    "X, Y = np.meshgrid(x , z )\n",
    "Z = iwf.field[:,:,0]['w'].real\n",
    "cset[2] = ax.contourf(X, Z, Y , zdir='y', offset=0)\n",
    "\n",
    "# setting 3D-axis-limits:    \n",
    "ax.set_xlim3d(1,0)\n",
    "ax.set_ylim3d(0,1)\n",
    "ax.set_zlim3d(1,0)\n",
    "\n",
    "plt.show()"
   ]
  }
 ],
 "metadata": {
  "hide_input": false,
  "kernelspec": {
   "display_name": "Python 3",
   "language": "python",
   "name": "python3"
  },
  "language_info": {
   "codemirror_mode": {
    "name": "ipython",
    "version": 3
   },
   "file_extension": ".py",
   "mimetype": "text/x-python",
   "name": "python",
   "nbconvert_exporter": "python",
   "pygments_lexer": "ipython3",
   "version": "3.7.4"
  }
 },
 "nbformat": 4,
 "nbformat_minor": 4
}
