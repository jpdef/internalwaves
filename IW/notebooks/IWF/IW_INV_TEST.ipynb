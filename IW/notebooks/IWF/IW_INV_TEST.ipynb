{
 "cells": [
  {
   "cell_type": "code",
   "execution_count": 366,
   "metadata": {},
   "outputs": [
    {
     "name": "stdout",
     "output_type": "stream",
     "text": [
      "The autoreload extension is already loaded. To reload it, use:\n",
      "  %reload_ext autoreload\n"
     ]
    }
   ],
   "source": [
    "import feather\n",
    "import scipy\n",
    "import matplotlib.pyplot as plt\n",
    "import sys\n",
    "\n",
    "%load_ext autoreload\n",
    "\n",
    "sys.path.append('../iw_inverse')\n",
    "import iw_invert as iwi\n",
    "\n",
    "%autoreload 2\n",
    "\n",
    "strat = feather.read_dataframe('sbc_strat.fthr')\n",
    "df    = feather.read_dataframe('sbc2.fthr')\n",
    "df['datetime'] = pd.to_datetime(df['time'],unit='s')\n",
    "df = df.set_index('datetime')\n",
    "\n",
    "df = df.loc[df.x == 0]\n",
    "\n"
   ]
  },
  {
   "cell_type": "code",
   "execution_count": 432,
   "metadata": {},
   "outputs": [
    {
     "data": {
      "text/html": [
       "<div>\n",
       "<style scoped>\n",
       "    .dataframe tbody tr th:only-of-type {\n",
       "        vertical-align: middle;\n",
       "    }\n",
       "\n",
       "    .dataframe tbody tr th {\n",
       "        vertical-align: top;\n",
       "    }\n",
       "\n",
       "    .dataframe thead th {\n",
       "        text-align: right;\n",
       "    }\n",
       "</style>\n",
       "<table border=\"1\" class=\"dataframe\">\n",
       "  <thead>\n",
       "    <tr style=\"text-align: right;\">\n",
       "      <th></th>\n",
       "      <th>freqs</th>\n",
       "      <th>modes</th>\n",
       "      <th>hwvn</th>\n",
       "      <th>a</th>\n",
       "      <th>b</th>\n",
       "    </tr>\n",
       "  </thead>\n",
       "  <tbody>\n",
       "    <tr>\n",
       "      <td>0</td>\n",
       "      <td>0.000222</td>\n",
       "      <td>1</td>\n",
       "      <td>0.001003+0.000000j</td>\n",
       "      <td>-23.331956+0.000000j</td>\n",
       "      <td>-6.395737+0.000000j</td>\n",
       "    </tr>\n",
       "    <tr>\n",
       "      <td>1</td>\n",
       "      <td>0.000222</td>\n",
       "      <td>2</td>\n",
       "      <td>0.001539+0.000000j</td>\n",
       "      <td>24.277380+0.000000j</td>\n",
       "      <td>-1.095126+0.000000j</td>\n",
       "    </tr>\n",
       "    <tr>\n",
       "      <td>2</td>\n",
       "      <td>0.000222</td>\n",
       "      <td>3</td>\n",
       "      <td>0.002073+0.000000j</td>\n",
       "      <td>-5.107394+0.000000j</td>\n",
       "      <td>81.093670+0.000000j</td>\n",
       "    </tr>\n",
       "    <tr>\n",
       "      <td>3</td>\n",
       "      <td>0.000222</td>\n",
       "      <td>4</td>\n",
       "      <td>0.002618+0.000000j</td>\n",
       "      <td>4.693012+0.000000j</td>\n",
       "      <td>-41.224773+0.000000j</td>\n",
       "    </tr>\n",
       "    <tr>\n",
       "      <td>4</td>\n",
       "      <td>0.000222</td>\n",
       "      <td>5</td>\n",
       "      <td>0.003139+0.000000j</td>\n",
       "      <td>9.341180+0.000000j</td>\n",
       "      <td>-39.960992+0.000000j</td>\n",
       "    </tr>\n",
       "    <tr>\n",
       "      <td>...</td>\n",
       "      <td>...</td>\n",
       "      <td>...</td>\n",
       "      <td>...</td>\n",
       "      <td>...</td>\n",
       "      <td>...</td>\n",
       "    </tr>\n",
       "    <tr>\n",
       "      <td>85</td>\n",
       "      <td>0.057206</td>\n",
       "      <td>5</td>\n",
       "      <td>0.000000-0.031420j</td>\n",
       "      <td>30.015560+0.000000j</td>\n",
       "      <td>9.001385+0.000000j</td>\n",
       "    </tr>\n",
       "    <tr>\n",
       "      <td>86</td>\n",
       "      <td>0.057206</td>\n",
       "      <td>6</td>\n",
       "      <td>0.000000-0.036644j</td>\n",
       "      <td>-0.670386+0.000000j</td>\n",
       "      <td>57.513892+0.000000j</td>\n",
       "    </tr>\n",
       "    <tr>\n",
       "      <td>87</td>\n",
       "      <td>0.057206</td>\n",
       "      <td>7</td>\n",
       "      <td>0.000000-0.041863j</td>\n",
       "      <td>4.548049+0.000000j</td>\n",
       "      <td>23.481746+0.000000j</td>\n",
       "    </tr>\n",
       "    <tr>\n",
       "      <td>88</td>\n",
       "      <td>0.057206</td>\n",
       "      <td>8</td>\n",
       "      <td>0.000000-0.047074j</td>\n",
       "      <td>64.606594+0.000000j</td>\n",
       "      <td>-7.089849+0.000000j</td>\n",
       "    </tr>\n",
       "    <tr>\n",
       "      <td>89</td>\n",
       "      <td>0.057206</td>\n",
       "      <td>9</td>\n",
       "      <td>0.000000-0.052276j</td>\n",
       "      <td>-78.794207+0.000000j</td>\n",
       "      <td>-40.138342+0.000000j</td>\n",
       "    </tr>\n",
       "  </tbody>\n",
       "</table>\n",
       "<p>90 rows × 5 columns</p>\n",
       "</div>"
      ],
      "text/plain": [
       "       freqs  modes                hwvn                    a  \\\n",
       "0   0.000222      1  0.001003+0.000000j -23.331956+0.000000j   \n",
       "1   0.000222      2  0.001539+0.000000j  24.277380+0.000000j   \n",
       "2   0.000222      3  0.002073+0.000000j  -5.107394+0.000000j   \n",
       "3   0.000222      4  0.002618+0.000000j   4.693012+0.000000j   \n",
       "4   0.000222      5  0.003139+0.000000j   9.341180+0.000000j   \n",
       "..       ...    ...                 ...                  ...   \n",
       "85  0.057206      5  0.000000-0.031420j  30.015560+0.000000j   \n",
       "86  0.057206      6  0.000000-0.036644j  -0.670386+0.000000j   \n",
       "87  0.057206      7  0.000000-0.041863j   4.548049+0.000000j   \n",
       "88  0.057206      8  0.000000-0.047074j  64.606594+0.000000j   \n",
       "89  0.057206      9  0.000000-0.052276j -78.794207+0.000000j   \n",
       "\n",
       "                      b  \n",
       "0   -6.395737+0.000000j  \n",
       "1   -1.095126+0.000000j  \n",
       "2   81.093670+0.000000j  \n",
       "3  -41.224773+0.000000j  \n",
       "4  -39.960992+0.000000j  \n",
       "..                  ...  \n",
       "85   9.001385+0.000000j  \n",
       "86  57.513892+0.000000j  \n",
       "87  23.481746+0.000000j  \n",
       "88  -7.089849+0.000000j  \n",
       "89 -40.138342+0.000000j  \n",
       "\n",
       "[90 rows x 5 columns]"
      ]
     },
     "execution_count": 432,
     "metadata": {},
     "output_type": "execute_result"
    }
   ],
   "source": [
    "#DP = np.unique(df['z'])\n",
    "DP = strat['depth'].values\n",
    "DP = DP[np.arange(0,len(DP),10)]\n",
    "N2 = np.interp(DP, strat['depth'],strat['strat'])\n",
    "M2 = 1/12.42\n",
    "#FREQS = np.array([M2])/3600\n",
    "FREQS = np.array( [0.79822616, \n",
    "                   M2,\n",
    "                   1.19733925,  \n",
    "                   1.99556541 ,  \n",
    "                   8.7804878 ,  \n",
    "                   60.26607539,\n",
    "                   64.25720621 , \n",
    "                   96.18625277, \n",
    "                   107.76053215, \n",
    "                   205.94235033])/3600 \n",
    "\n",
    "\n",
    "MODES = np.arange(1,10)\n",
    "\n",
    "#Dataframe subsample \n",
    "#df = df.loc[ df['z']  > 150]\n",
    "\n",
    "dfss_times = df.resample('1H').first()\n",
    "dfss = df.loc[ df['time'].isin(dfss_times.time) ]\n",
    "\n",
    "inv = iwi.InternalWaveInversion(dfss,FREQS,MODES,DP,N2,tc='pdz')\n",
    "inv.pinvert()\n",
    "inv.ps\n",
    "\n"
   ]
  },
  {
   "cell_type": "code",
   "execution_count": 433,
   "metadata": {},
   "outputs": [],
   "source": [
    "dz_hat = inv.H @ np.concatenate([inv.ps['a'],inv.ps['b']]).T\n"
   ]
  },
  {
   "cell_type": "code",
   "execution_count": 434,
   "metadata": {},
   "outputs": [
    {
     "data": {
      "application/vnd.jupyter.widget-view+json": {
       "model_id": "fb008b64cfec461ab69d6463d20a1bc9",
       "version_major": 2,
       "version_minor": 0
      },
      "text/plain": [
       "Canvas(toolbar=Toolbar(toolitems=[('Home', 'Reset original view', 'home', 'home'), ('Back', 'Back to previous …"
      ]
     },
     "metadata": {},
     "output_type": "display_data"
    },
    {
     "name": "stderr",
     "output_type": "stream",
     "text": [
      "/home/jpdef/anaconda3/lib/python3.7/site-packages/numpy/ma/core.py:2786: ComplexWarning: Casting complex values to real discards the imaginary part\n",
      "  order=order, subok=True, ndmin=ndmin)\n",
      "/home/jpdef/anaconda3/lib/python3.7/site-packages/numpy/core/_asarray.py:85: ComplexWarning: Casting complex values to real discards the imaginary part\n",
      "  return array(a, dtype, copy=False, order=order)\n"
     ]
    },
    {
     "data": {
      "text/plain": [
       "<matplotlib.colorbar.Colorbar at 0x7fe348643f90>"
      ]
     },
     "execution_count": 434,
     "metadata": {},
     "output_type": "execute_result"
    }
   ],
   "source": [
    "%matplotlib widget\n",
    "import cmocean\n",
    "\n",
    "def plot_dataframe(df,col,ax):\n",
    "    zz,tt = np.meshgrid(np.unique(df.z), np.unique(df.index))\n",
    "    out = np.array(df[col]).reshape(zz.shape)\n",
    "    ax.invert_yaxis()\n",
    "    p = ax.contourf(tt,zz,out,levels=np.linspace(-1e4,1e4),cmap='seismic')\n",
    "    return p\n",
    "    \n",
    "    \n",
    "def plot_estimate(df,est,ax):\n",
    "    zz,tt = np.meshgrid(np.unique(df.z), np.unique(df.index))\n",
    "    out = np.array(est.reshape(zz.shape) )\n",
    "    ax.invert_yaxis()\n",
    "    p = ax.contourf(tt,zz,out,levels=np.linspace(-1e4,1e4),cmap='seismic')\n",
    "    return p\n",
    "    return p\n",
    "\n",
    "def plot_anomaly(df,col,est,ax):\n",
    "    zz,tt = np.meshgrid(np.unique(df.z), np.unique(df.index))\n",
    "    out1 = np.array(est.reshape(zz.shape) )\n",
    "    out2 = np.array(df[col]).reshape(zz.shape)\n",
    "    out3 = out2-out1\n",
    "    ax.invert_yaxis()\n",
    "    p = ax.contourf(tt,zz,out3,levels=np.linspace(-1e4,1e4),cmap='seismic')\n",
    "    return p\n",
    "\n",
    "\n",
    "def plot_rms_error(df,col,est,ax):\n",
    "    zz,tt = np.meshgrid(np.unique(df.z), np.unique(df.index))\n",
    "    dd = np.array(df[col]).reshape(zz.shape)\n",
    "    ee = np.array(est.reshape(zz.shape) )\n",
    "    diff = ee - dd\n",
    "    rme = np.sqrt ( np.mean(diff**2,axis=0)  / np.mean( dd**2 ,axis=0 ) )\n",
    "    p = ax.plot(zz[0,:],rme,'k.--')\n",
    "    ax.set_xlabel('Depth')\n",
    "    return p\n",
    "    \n",
    "    \n",
    "f , ax = plt.subplots(2,2)\n",
    "p = plot_dataframe(dfss,'pdz' , ax[0,0])\n",
    "p = plot_estimate(dfss,dz_hat, ax[0,1])\n",
    "p = plot_anomaly(dfss,'pdz',dz_hat, ax[1,0])\n",
    "plot_rms_error(dfss,'pdz',dz_hat,ax[1,1])\n",
    "\n",
    "f.autofmt_xdate()\n",
    "cbar_ax = f.add_axes([0.92, 0.2, 0.02, 0.7])\n",
    "ax[0,0].set_title('Data')\n",
    "ax[0,1].set_title('Model')\n",
    "ax[1,0].set_title('Error')\n",
    "ax[1,1].set_title('Relative RMS Error')\n",
    "\n",
    "f.set_size_inches(10,7) \n",
    "f.colorbar(p,cax=cbar_ax)"
   ]
  },
  {
   "cell_type": "code",
   "execution_count": 428,
   "metadata": {},
   "outputs": [
    {
     "data": {
      "application/vnd.jupyter.widget-view+json": {
       "model_id": "",
       "version_major": 2,
       "version_minor": 0
      },
      "text/plain": [
       "Canvas(toolbar=Toolbar(toolitems=[('Home', 'Reset original view', 'home', 'home'), ('Back', 'Back to previous …"
      ]
     },
     "metadata": {},
     "output_type": "display_data"
    },
    {
     "data": {
      "text/plain": [
       "<matplotlib.colorbar.Colorbar at 0x7fe358f445d0>"
      ]
     },
     "execution_count": 428,
     "metadata": {},
     "output_type": "execute_result"
    }
   ],
   "source": [
    "%matplotlib widget\n",
    "def mag(a,b):\n",
    "    return np.abs(a + b)\n",
    "\n",
    "def plot_params(df,ax):\n",
    "    mm,ff = np.meshgrid(np.unique(df.modes), np.unique(df.freqs)*3600)\n",
    "    aa = np.array(df['a']).reshape(mm.shape) \n",
    "    bb = np.array(df['b']).reshape(mm.shape) \n",
    "    p = ax.pcolormesh(ff,mm,(mag(aa,bb)))#levels=np.linspace(-1e4,1e4),cmap='seismic')\n",
    "    return p\n",
    "\n",
    "f ,ax = plt.subplots()\n",
    "p = plot_params(inv.ps,ax)\n",
    "ax.set_ylabel('modes')\n",
    "ax.set_xlabel('cph')\n",
    "f.colorbar(p)"
   ]
  }
 ],
 "metadata": {
  "kernelspec": {
   "display_name": "Python 3",
   "language": "python",
   "name": "python3"
  },
  "language_info": {
   "codemirror_mode": {
    "name": "ipython",
    "version": 3
   },
   "file_extension": ".py",
   "mimetype": "text/x-python",
   "name": "python",
   "nbconvert_exporter": "python",
   "pygments_lexer": "ipython3",
   "version": "3.7.4"
  }
 },
 "nbformat": 4,
 "nbformat_minor": 4
}
