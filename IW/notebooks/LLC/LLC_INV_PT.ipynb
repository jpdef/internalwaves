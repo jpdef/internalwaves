{
 "cells": [
  {
   "cell_type": "code",
   "execution_count": 7,
   "metadata": {},
   "outputs": [],
   "source": [
    "import os\n",
    "import sys\n",
    "import seawater as sw\n",
    "from scipy import interpolate as interp\n",
    "\n",
    "sys.path.append(\"../scripts\")\n",
    "sys.path.append(\"../src/iw_model\")\n",
    "sys.path.append(\"../src/iw_inverse\")\n",
    "sys.path.append(\"../src/misc\")\n",
    "from iw_invert import InternalWaveInversion\n",
    "from extract import *"
   ]
  },
  {
   "cell_type": "code",
   "execution_count": 3,
   "metadata": {},
   "outputs": [],
   "source": [
    "\"\"\"\n",
    "Read data and compute means, extrapolate isopyncnal displacments\n",
    "\"\"\"\n",
    "path = os.path.join(\"..\",\"matlab\",filename)\n",
    "\n",
    "table = read_table(path)\n",
    "N2 = extract_node(table,'N2')\n",
    "T  = extract_node(table,'T')\n",
    "S  = extract_node(table,'S')\n",
    "Z  = extract_node(table,'z').flatten()\n",
    "\n",
    "#Compute the mean stratification\n",
    "DSL = slice(20,70) # depth slice\n",
    "N2_mean = np.mean(N2,axis=(0,2,3))\n",
    "T_mean  = np.mean(T,axis=(0,2,3))\n",
    "S_mean  = np.mean(S,axis=(0,2,3))\n",
    "R_mean  = sw.eos80.dens(S_mean[DSL],T_mean[DSL],Z[DSL])\n",
    "\n",
    "#Define a slice\n",
    "sl = (slice(0,-1),DSL,slice(0,-1),slice(0,-1))\n",
    "\n",
    "#Subsample matrices\n",
    "TP = T[sl]\n",
    "SP = S[sl]\n",
    "NP = N2[sl]\n",
    "\n",
    "#Grab Axes Data\n",
    "TIME   = extract_node(table,'time').flatten()[sl[0]]\n",
    "LAT    = extract_node(table,'lat')[:,0][sl[2]]\n",
    "LON    = extract_node(table,'lon')[0,:][sl[3]]\n",
    "DEPTH  = extract_node(table,'z').flatten()[sl[1]]\n",
    "\n",
    "#Convert matlab timestamps\n",
    "t0 = matlab2datetime(TIME[0]).timestamp()\n",
    "TIME = [round(matlab2datetime(T).timestamp()-t0) for T in TIME]\n",
    "X = 1e3*np.arange(0,22,2)\n",
    "Y = 1e3*np.arange(0,22,2)\n",
    "\n",
    "#Form a coordinate matrix\n",
    "AX = np.array(list(itertools.product(*[TIME,DEPTH,X,Y])),dtype=[('t',float),('z',float),('x',float),('y',float)])\n",
    "AX = AX.reshape(TP.shape)\n",
    "\n",
    "#Compute Density from state variables\n",
    "RP = sw.eos80.dens(SP,TP,AX['z'])\n",
    "\n",
    "#Create a function that is depth as a function of the mean density\n",
    "zofr = interp.InterpolatedUnivariateSpline(R_mean,Z[DSL])\n",
    "DZ   = zofr(RP) - AX['z']\n",
    "\n"
   ]
  },
  {
   "cell_type": "code",
   "execution_count": 6,
   "metadata": {},
   "outputs": [
    {
     "data": {
      "text/plain": [
       "Text(0.5, 1.0, 'Isopycnal Displacements @[251.77000427]')"
      ]
     },
     "execution_count": 6,
     "metadata": {},
     "output_type": "execute_result"
    },
    {
     "data": {
      "image/png": "[encoded data removed]",
      "text/plain": [
       "<Figure size 432x288 with 1 Axes>"
      ]
     },
     "metadata": {
      "needs_background": "light"
     },
     "output_type": "display_data"
    }
   ],
   "source": [
    "\"\"\"\n",
    "Compute Inversion Single Point in Time\n",
    "\"\"\"\n",
    "#Pick a single point in time construct dataframe\n",
    "spit = pd.DataFrame({\"dz\"    : DZ[:,10,0,0],\n",
    "                     \"time\"  : AX[:,10,0,0][\"t\"],\n",
    "                     \"z\"     : AX[:,10,0,0][\"z\"],\n",
    "                     \"x\"     : 0,\n",
    "                     \"y\"     : 0})\n",
    "spit['date'] = pd.to_datetime(spit['time'] + t0, unit='s')\n",
    "\n",
    "#Set up parameter space\n",
    "FREQS= [0,.0805/3600,2*.0805/3600]\n",
    "MODES= [1]\n",
    "ANGLES= [0,1]\n",
    "\n",
    "#Run inversion\n",
    "iwi = InternalWaveInversion(spit,FREQS,MODES,ANGLES,Z[DSL],N2_mean[DSL],tc='dz')\n",
    "iwi.pinvert()\n",
    "\n",
    "#Compute an estimate\n",
    "dz_hat = iwi.H @ np.concatenate([iwi.ps['a'],iwi.ps['b']]).T\n",
    "\n",
    "\n",
    "plt.plot(spit['date'],spit[\"dz\"])\n",
    "plt.plot(spit['date'],dz_hat)\n",
    "plt.xticks(rotation='vertical')\n",
    "plt.title(\"Isopycnal Displacements @\" + str( np.unique(spit['z']) ) )"
   ]
  },
  {
   "cell_type": "code",
   "execution_count": null,
   "metadata": {},
   "outputs": [],
   "source": []
  }
 ],
 "metadata": {
  "kernelspec": {
   "display_name": "Python 3",
   "language": "python",
   "name": "python3"
  },
  "language_info": {
   "codemirror_mode": {
    "name": "ipython",
    "version": 3
   },
   "file_extension": ".py",
   "mimetype": "text/x-python",
   "name": "python",
   "nbconvert_exporter": "python",
   "pygments_lexer": "ipython3",
   "version": "3.7.4"
  }
 },
 "nbformat": 4,
 "nbformat_minor": 4
}
