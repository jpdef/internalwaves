{
 "cells": [
  {
   "cell_type": "code",
   "execution_count": 2,
   "metadata": {},
   "outputs": [],
   "source": [
    "import os\n",
    "import sys\n",
    "import seawater as sw\n",
    "from scipy import interpolate as interp\n",
    "\n",
    "sys.path.append(\"..\")\n",
    "sys.path.append(\"../scripts\")\n",
    "sys.path.append(\"../src/iw_model\")\n",
    "sys.path.append(\"../src/iw_inverse\")\n",
    "sys.path.append(\"../src/misc\")\n",
    "\n",
    "from iw_invert import InternalWaveInversion\n",
    "from iw_plots import *\n",
    "from extract import *\n"
   ]
  },
  {
   "cell_type": "code",
   "execution_count": 14,
   "metadata": {},
   "outputs": [],
   "source": [
    "\"\"\"\n",
    "Read data and compute means\n",
    "\"\"\"\n",
    "path = os.path.join(\"..\",\"matlab\",filename)\n",
    "\n",
    "table = read_table(path)\n",
    "N2 = extract_node(table,'N2')\n",
    "T  = extract_node(table,'T')\n",
    "S  = extract_node(table,'S')\n",
    "Z  = extract_node(table,'z').flatten()\n",
    "\n",
    "#Compute the mean stratification\n",
    "DSL = slice(0,70) # depth slice\n",
    "N2_mean = np.mean(N2,axis=(0,2,3))\n",
    "T_mean  = np.mean(T,axis=(0,2,3))\n",
    "S_mean  = np.mean(S,axis=(0,2,3))\n",
    "#R_mean  = sw.eos80.dens(S_mean[DSL],T_mean[DSL],Z[DSL])\n",
    "R_mean  = sw.eos80.dens(S_mean[DSL],T_mean[DSL],0)\n",
    "\n",
    "\n",
    "#Define a slice\n",
    "sl = (slice(0,-1),DSL,slice(0,-1),slice(0,-1))\n",
    "\n",
    "#Subsample matrices\n",
    "TP = T[sl]\n",
    "SP = S[sl]\n",
    "NP = N2[sl]\n",
    "\n",
    "TIME   = extract_node(table,'time').flatten()[sl[0]]\n",
    "LAT    = extract_node(table,'lat')[:,0][sl[2]]\n",
    "LON    = extract_node(table,'lon')[0,:][sl[3]]\n",
    "DEPTH  = extract_node(table,'z').flatten()[sl[1]]\n",
    "\n",
    "#Form a coordinate matrix\n",
    "AX = np.array(list(itertools.product(*[TIME,DEPTH,LAT,LON])),dtype=[('t',float),('z',float),('x',float),('y',float)])\n",
    "AX = AX.reshape(TP.shape)\n",
    "\n",
    "#Compute Density Perturbations from state variables\n",
    "#RP = sw.eos80.dens(SP,TP,AX['z'])\n",
    "RP = sw.eos80.dens(SP,TP,0)\n",
    "\n",
    "#Create a function that is depth as a function of the mean density\n",
    "zofr = interp.InterpolatedUnivariateSpline(R_mean,Z[DSL])\n",
    "DZ   = zofr(RP) - AX['z']\n",
    "\n",
    "\n",
    "#Demean vertical profiles\n",
    "DZB = np.mean(DZ,axis=(0,2,3))\n",
    "for i in range(DZ.shape[0]-1):\n",
    "    for j in range(DZ.shape[2]-1):\n",
    "        for k in range(DZ.shape[3]-1):\n",
    "              DZ[i,:,j,k] = DZ[i,:,j,k] - DZB\n",
    "\n",
    "\n",
    "\n",
    "\n",
    "#Place an M2 band pass filter\n",
    "def bandpass_filter(center,half_width,fs,order=5):\n",
    "    nyq = fs*0.5\n",
    "    lo = (center-half_width/nyq)\n",
    "    hi = (center+half_width/nyq)\n",
    "    b, a = sig.butter(order, [lo, hi], btype='band')\n",
    "    return b,a\n",
    "\n",
    "M2  = .0805 \n",
    "bw  = .02\n",
    "b,a = bandpass_filter(M2,bw,1)\n",
    "DZ = sig.lfilter(b,a,DZ,axis=0)\n",
    "\n"
   ]
  },
  {
   "cell_type": "code",
   "execution_count": 15,
   "metadata": {},
   "outputs": [
    {
     "name": "stdout",
     "output_type": "stream",
     "text": [
      "The autoreload extension is already loaded. To reload it, use:\n",
      "  %reload_ext autoreload\n",
      "settin attrs\n",
      "22.80969970703125\n"
     ]
    }
   ],
   "source": [
    "\"\"\"\n",
    "Modal Decomposition\n",
    "\"\"\"\n",
    "%load_ext autoreload\n",
    "%autoreload\n",
    "#Set up dataspace\n",
    "df = pd.DataFrame({\"dz\"    : DZ[0,:,0,0].flatten(),\n",
    "                   \"z\"     : AX[0,:,0,0][\"z\"].flatten(),\n",
    "                   \"time\"  : 0,\n",
    "                   \"x\"     : 0,\n",
    "                   \"y\"     : 0\n",
    "                    })\n",
    "\n",
    "#Interpolate N2 with regular grid spacing for modes.\n",
    "n2ofz = interp.InterpolatedUnivariateSpline(Z[DSL],N2_mean[DSL])\n",
    "Z_even = np.linspace(Z[0],Z[70],100)\n",
    "\n",
    "\n",
    "#Set up parameter space\n",
    "FREQS = [.0805/3600]\n",
    "MODES = np.arange(1,4)\n",
    "iwi = InternalWaveInversion(df,FREQS,MODES,[0],Z_even,n2ofz(Z_even),tc='dz',mean=False)\n",
    "\n",
    "iwi.pinvert()\n",
    "\n",
    "#Apply adjoint for every depth profile to get modal amplitudes\n",
    "amps = np.ndarray(shape=DZ[:,0,:,:].shape,dtype=[(\"m1\",float),(\"m2\",float),(\"m3\",float)])\n",
    "for i in range(DZ.shape[0]-1):\n",
    "    for j in range(DZ.shape[2]-1):\n",
    "        for k in range(DZ.shape[3]-1):\n",
    "            v = iwi.hdag @ DZ[i,:,j,k]\n",
    "            amps[i,j,k]=tuple(v[3:])\n",
    "            \n",
    "        \n",
    "#df['dz_hat'] = iwi.H @ np.concatenate([iwi.ps['a'],iwi.ps['b']]).T\n"
   ]
  },
  {
   "cell_type": "code",
   "execution_count": 16,
   "metadata": {},
   "outputs": [
    {
     "data": {
      "text/plain": [
       "0    128.134465+0.000000j\n",
       "1     57.228416+0.000000j\n",
       "2     30.072570+0.000000j\n",
       "Name: hwvn, dtype: complex128"
      ]
     },
     "execution_count": 16,
     "metadata": {},
     "output_type": "execute_result"
    }
   ],
   "source": [
    "1/(iwi.ps['hwvn']*1000) "
   ]
  },
  {
   "cell_type": "code",
   "execution_count": 17,
   "metadata": {},
   "outputs": [
    {
     "data": {
      "application/vnd.jupyter.widget-view+json": {
       "model_id": "",
       "version_major": 2,
       "version_minor": 0
      },
      "text/plain": [
       "Canvas(toolbar=Toolbar(toolitems=[('Home', 'Reset original view', 'home', 'home'), ('Back', 'Back to previous …"
      ]
     },
     "metadata": {},
     "output_type": "display_data"
    },
    {
     "data": {
      "text/plain": [
       "<matplotlib.legend.Legend at 0x7f8bcbf90b10>"
      ]
     },
     "execution_count": 17,
     "metadata": {},
     "output_type": "execute_result"
    }
   ],
   "source": [
    "%matplotlib widget\n",
    "for m in ['m1','m2','m3']:\n",
    "    plt.plot(amps[0:500,0,0][m],label=m)\n",
    "plt.legend()"
   ]
  },
  {
   "cell_type": "code",
   "execution_count": 18,
   "metadata": {},
   "outputs": [
    {
     "data": {
      "application/vnd.jupyter.widget-view+json": {
       "model_id": "",
       "version_major": 2,
       "version_minor": 0
      },
      "text/plain": [
       "Canvas(toolbar=Toolbar(toolitems=[('Home', 'Reset original view', 'home', 'home'), ('Back', 'Back to previous …"
      ]
     },
     "metadata": {},
     "output_type": "display_data"
    }
   ],
   "source": [
    "import matplotlib.animation as animation\n",
    "from IPython.display import HTML\n",
    "fig,ax = plt.subplots()\n",
    "p = ax.contourf(amps[0,:,:]['m2'])\n",
    "\n",
    "def update(frame):\n",
    "    ax.contourf(amps[frame,:,:]['m2'],levels=20,cmap='seismic')\n",
    "    return p,\n",
    "    \n",
    "\n",
    "#Compile Animation\n",
    "ani = animation.FuncAnimation(fig, update,frames=np.arange(0,amps.shape[0],30),blit=False)\n",
    "\n",
    "ani.save(\"foo.mp4\")\n",
    "\n"
   ]
  },
  {
   "cell_type": "code",
   "execution_count": 147,
   "metadata": {},
   "outputs": [
    {
     "data": {
      "application/vnd.jupyter.widget-view+json": {
       "model_id": "",
       "version_major": 2,
       "version_minor": 0
      },
      "text/plain": [
       "Canvas(toolbar=Toolbar(toolitems=[('Home', 'Reset original view', 'home', 'home'), ('Back', 'Back to previous …"
      ]
     },
     "metadata": {},
     "output_type": "display_data"
    }
   ],
   "source": [
    "f,ax = plt.subplots()\n",
    "p = ax.contourf(amps[0:100,:,5]['m3'],levels=50,cmap='seismic')"
   ]
  },
  {
   "cell_type": "code",
   "execution_count": 150,
   "metadata": {},
   "outputs": [
    {
     "data": {
      "application/vnd.jupyter.widget-view+json": {
       "model_id": "ff46b0b204464057a1c9ecb6a28f8a28",
       "version_major": 2,
       "version_minor": 0
      },
      "text/plain": [
       "Canvas(toolbar=Toolbar(toolitems=[('Home', 'Reset original view', 'home', 'home'), ('Back', 'Back to previous …"
      ]
     },
     "metadata": {},
     "output_type": "display_data"
    },
    {
     "data": {
      "text/plain": [
       "[<matplotlib.lines.Line2D at 0x7f8367640350>]"
      ]
     },
     "execution_count": 150,
     "metadata": {},
     "output_type": "execute_result"
    }
   ],
   "source": [
    "%matplotlib widget\n",
    "stacked = amps[:,5,:].T.reshape(amps.shape[2]*amps.shape[0],-1)\n",
    "\n",
    "f1,pxx1 = sig.welch(stacked.flatten()['m1'],fs=1/2,nperseg=11)\n",
    "f2,pxx2 = sig.welch(stacked.flatten()['m2'],fs=1/2,nperseg=11)\n",
    "f3,pxx3 = sig.welch(stacked.flatten()['m3'],fs=1/2,nperseg=11)\n",
    "sl = slice(0,1000)\n",
    "plt.plot(f1[sl],pxx1[sl])\n",
    "plt.plot(f2[sl],pxx2[sl])\n",
    "plt.plot(f3[sl],pxx3[sl])"
   ]
  }
 ],
 "metadata": {
  "kernelspec": {
   "display_name": "Python 3",
   "language": "python",
   "name": "python3"
  },
  "language_info": {
   "codemirror_mode": {
    "name": "ipython",
    "version": 3
   },
   "file_extension": ".py",
   "mimetype": "text/x-python",
   "name": "python",
   "nbconvert_exporter": "python",
   "pygments_lexer": "ipython3",
   "version": "3.7.4"
  }
 },
 "nbformat": 4,
 "nbformat_minor": 4
}
