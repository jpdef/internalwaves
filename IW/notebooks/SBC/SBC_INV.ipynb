{
 "cells": [
  {
   "cell_type": "code",
   "execution_count": 3,
   "metadata": {},
   "outputs": [
    {
     "data": {
      "text/html": [
       "<table>\n",
       "<caption>A tibble: 6 × 10</caption>\n",
       "<thead>\n",
       "\t<tr><th scope=col>t</th><th scope=col>z</th><th scope=col>temp</th><th scope=col>t_mean</th><th scope=col>s_mean</th><th scope=col>dt/dz</th><th scope=col>dT</th><th scope=col>dz</th><th scope=col>x</th><th scope=col>y</th></tr>\n",
       "\t<tr><th scope=col>&lt;dbl&gt;</th><th scope=col>&lt;dbl&gt;</th><th scope=col>&lt;dbl&gt;</th><th scope=col>&lt;dbl&gt;</th><th scope=col>&lt;dbl&gt;</th><th scope=col>&lt;dbl&gt;</th><th scope=col>&lt;dbl&gt;</th><th scope=col>&lt;dbl&gt;</th><th scope=col>&lt;dbl&gt;</th><th scope=col>&lt;dbl&gt;</th></tr>\n",
       "</thead>\n",
       "<tbody>\n",
       "\t<tr><td>0</td><td> 9.420437</td><td>16.010</td><td>16.40634</td><td>33.45622</td><td>-0.1918272</td><td>-0.3963379797</td><td> 2.06612025</td><td>0.4780085</td><td>1.734641</td></tr>\n",
       "\t<tr><td>0</td><td>10.910527</td><td>15.724</td><td>16.17577</td><td>33.44632</td><td>-0.1859820</td><td>-0.4517731109</td><td> 2.42912257</td><td>0.4780085</td><td>1.734641</td></tr>\n",
       "\t<tr><td>0</td><td>12.985729</td><td>15.509</td><td>15.84799</td><td>33.44376</td><td>-0.1777103</td><td>-0.3389933037</td><td> 1.90756095</td><td>0.4780085</td><td>1.734641</td></tr>\n",
       "\t<tr><td>0</td><td>15.922649</td><td>15.485</td><td>15.48471</td><td>33.43944</td><td>-0.1420410</td><td> 0.0002925563</td><td>-0.00205966</td><td>0.4780085</td><td>1.734641</td></tr>\n",
       "\t<tr><td>0</td><td>18.679154</td><td>15.438</td><td>15.09984</td><td>33.44330</td><td>-0.1389111</td><td> 0.3381612373</td><td>-2.43437194</td><td>0.4780085</td><td>1.734641</td></tr>\n",
       "\t<tr><td>0</td><td>21.361138</td><td>15.342</td><td>14.77717</td><td>33.44542</td><td>-0.1404613</td><td> 0.5648314560</td><td>-4.02126157</td><td>0.4780085</td><td>1.734641</td></tr>\n",
       "</tbody>\n",
       "</table>\n"
      ],
      "text/latex": [
       "A tibble: 6 × 10\n",
       "\\begin{tabular}{r|llllllllll}\n",
       " t & z & temp & t\\_mean & s\\_mean & dt/dz & dT & dz & x & y\\\\\n",
       " <dbl> & <dbl> & <dbl> & <dbl> & <dbl> & <dbl> & <dbl> & <dbl> & <dbl> & <dbl>\\\\\n",
       "\\hline\n",
       "\t 0 &  9.420437 & 16.010 & 16.40634 & 33.45622 & -0.1918272 & -0.3963379797 &  2.06612025 & 0.4780085 & 1.734641\\\\\n",
       "\t 0 & 10.910527 & 15.724 & 16.17577 & 33.44632 & -0.1859820 & -0.4517731109 &  2.42912257 & 0.4780085 & 1.734641\\\\\n",
       "\t 0 & 12.985729 & 15.509 & 15.84799 & 33.44376 & -0.1777103 & -0.3389933037 &  1.90756095 & 0.4780085 & 1.734641\\\\\n",
       "\t 0 & 15.922649 & 15.485 & 15.48471 & 33.43944 & -0.1420410 &  0.0002925563 & -0.00205966 & 0.4780085 & 1.734641\\\\\n",
       "\t 0 & 18.679154 & 15.438 & 15.09984 & 33.44330 & -0.1389111 &  0.3381612373 & -2.43437194 & 0.4780085 & 1.734641\\\\\n",
       "\t 0 & 21.361138 & 15.342 & 14.77717 & 33.44542 & -0.1404613 &  0.5648314560 & -4.02126157 & 0.4780085 & 1.734641\\\\\n",
       "\\end{tabular}\n"
      ],
      "text/markdown": [
       "\n",
       "A tibble: 6 × 10\n",
       "\n",
       "| t &lt;dbl&gt; | z &lt;dbl&gt; | temp &lt;dbl&gt; | t_mean &lt;dbl&gt; | s_mean &lt;dbl&gt; | dt/dz &lt;dbl&gt; | dT &lt;dbl&gt; | dz &lt;dbl&gt; | x &lt;dbl&gt; | y &lt;dbl&gt; |\n",
       "|---|---|---|---|---|---|---|---|---|---|\n",
       "| 0 |  9.420437 | 16.010 | 16.40634 | 33.45622 | -0.1918272 | -0.3963379797 |  2.06612025 | 0.4780085 | 1.734641 |\n",
       "| 0 | 10.910527 | 15.724 | 16.17577 | 33.44632 | -0.1859820 | -0.4517731109 |  2.42912257 | 0.4780085 | 1.734641 |\n",
       "| 0 | 12.985729 | 15.509 | 15.84799 | 33.44376 | -0.1777103 | -0.3389933037 |  1.90756095 | 0.4780085 | 1.734641 |\n",
       "| 0 | 15.922649 | 15.485 | 15.48471 | 33.43944 | -0.1420410 |  0.0002925563 | -0.00205966 | 0.4780085 | 1.734641 |\n",
       "| 0 | 18.679154 | 15.438 | 15.09984 | 33.44330 | -0.1389111 |  0.3381612373 | -2.43437194 | 0.4780085 | 1.734641 |\n",
       "| 0 | 21.361138 | 15.342 | 14.77717 | 33.44542 | -0.1404613 |  0.5648314560 | -4.02126157 | 0.4780085 | 1.734641 |\n",
       "\n"
      ],
      "text/plain": [
       "  t z         temp   t_mean   s_mean   dt/dz      dT            dz         \n",
       "1 0  9.420437 16.010 16.40634 33.45622 -0.1918272 -0.3963379797  2.06612025\n",
       "2 0 10.910527 15.724 16.17577 33.44632 -0.1859820 -0.4517731109  2.42912257\n",
       "3 0 12.985729 15.509 15.84799 33.44376 -0.1777103 -0.3389933037  1.90756095\n",
       "4 0 15.922649 15.485 15.48471 33.43944 -0.1420410  0.0002925563 -0.00205966\n",
       "5 0 18.679154 15.438 15.09984 33.44330 -0.1389111  0.3381612373 -2.43437194\n",
       "6 0 21.361138 15.342 14.77717 33.44542 -0.1404613  0.5648314560 -4.02126157\n",
       "  x         y       \n",
       "1 0.4780085 1.734641\n",
       "2 0.4780085 1.734641\n",
       "3 0.4780085 1.734641\n",
       "4 0.4780085 1.734641\n",
       "5 0.4780085 1.734641\n",
       "6 0.4780085 1.734641"
      ]
     },
     "metadata": {},
     "output_type": "display_data"
    }
   ],
   "source": [
    "# Source Libraries\n",
    "source('src/timeseries_analysis.r')\n",
    "\n",
    "\n",
    "#Read in Data\n",
    "ds_sbc <- read_feather('sbc.fthr')\n",
    "\n",
    "#Set clock to zero\n",
    "ds_sbc$time = ds_sbc$time - 1473369000\n",
    "colnames(ds_sbc)[colnames(ds_sbc)==\"time\"] <- \"t\"\n",
    "\n",
    "#Subsample from the dataset\n",
    "sample_times = seq(0,5*24*3600,2*3600)\n",
    "ds <- ds_sbc[ds_sbc$t %in% sample_times,]\n",
    "head(ds)\n",
    "\n",
    "#Ocean profile\n",
    "stratdf <- read_feather('sbc_strat.fthr')\n",
    "strat   <- stratdf$strat\n",
    "depth   <- stratdf$depth\n",
    "\n",
    "#Subsamples Stratification\n",
    "ss <- seq(1,length(strat),45)\n",
    "strat <- strat[ ss ]\n",
    "depth <- depth[ ss ]\n",
    "\n",
    "#Make a initial parameter space\n",
    "source('../src/inversion.r')\n",
    "source('../src/modes.r')\n",
    "\n",
    "#Make parameter space\n",
    "\n",
    "#Coherent freq's in cph\n",
    "coh_freqs = c( 0.79822616, \n",
    "               1.19733925,  \n",
    "               1.99556541 ,  \n",
    "               8.7804878 ,  \n",
    "               60.26607539,\n",
    "               64.25720621 , \n",
    "               96.18625277, \n",
    "               107.76053215, \n",
    "               205.94235033) \n",
    "\n",
    "#coh_freqs <- coh_freqs/(3600)\n",
    "#omega <- seq(coh_freqs[3],coh_freqs[8],length.out=100) \n",
    "M2 <- 0.0805\n",
    "modes <- seq(1,4,1)\n",
    "#omega <- c(M2,5*M2)/3600\n",
    "omega <- c(seq(1,5)*M2/3600,1.5/(24*3600))\n",
    "headings  <- c(0)\n",
    "k <- generate_wavenumbers(depth,strat,omega,modes)\n",
    "headings <- seq(0,360,5)\n",
    "ps <- generate_parameter_space(omega,modes,k,headings) \n",
    "\n"
   ]
  },
  {
   "cell_type": "code",
   "execution_count": 4,
   "metadata": {},
   "outputs": [],
   "source": [
    "pseudo_invert<-function(ds,ps,strat,strat_depth){\n",
    "   H <- make_inv_matrix(ds,ps,strat,strat_depth)\n",
    "   system.time(approx <- tappered_least_square(H,ds$dz))\n",
    "   xl <- length(approx$x_hat)\n",
    "   ps$a  <- approx$x_hat[1:(xl/2),]\n",
    "   ps$b  <- approx$x_hat[(xl/2 + 1) :xl,]\n",
    "   return(ps)\n",
    "}\n",
    "\n",
    "#ps_approx <- pseudo_invert(ds,ps,strat,depth)"
   ]
  },
  {
   "cell_type": "code",
   "execution_count": 5,
   "metadata": {},
   "outputs": [
    {
     "ename": "ERROR",
     "evalue": "Error in ggplot(ps, aes(x = kx * 1000, y = ky * 1000, size = mag(a, b), : object 'ps_approx' not found\n",
     "output_type": "error",
     "traceback": [
      "Error in ggplot(ps, aes(x = kx * 1000, y = ky * 1000, size = mag(a, b), : object 'ps_approx' not found\nTraceback:\n",
      "1. plot_kspace_gg(ps_approx)",
      "2. ggplot(ps, aes(x = kx * 1000, y = ky * 1000, size = mag(a, b), \n .     color = mag(a, b)))   # at line 2-6 of file <text>"
     ]
    }
   ],
   "source": [
    "plot_kspace_gg <- function(ps){\n",
    "    p <- ggplot(ps,aes(x=kx*1000,y=ky*1000,size=mag(a,b),color=mag(a,b))) + \n",
    "                geom_point() + \n",
    "                labs(x='East-West (cpk)', y='North-South (cpk)') +\n",
    "                scale_color_gradient(low = \"blue\", high = \"red\")  +\n",
    "                theme(panel.background = element_rect(fill = 'blue', colour = 'white'))\n",
    "     return (p)\n",
    "}\n",
    "\n",
    "plot_kspace_gg(ps_approx)\n",
    "#ps_approx$mag <- sqrt(ps_approx$a**2 + ps_approx$b**2)\n",
    "#plot(ps_approx$kx,ps_approx$mag)"
   ]
  },
  {
   "cell_type": "code",
   "execution_count": null,
   "metadata": {},
   "outputs": [],
   "source": [
    "source('../src/inversion.r')\n",
    "sample_times <- seq(1*24*3600,9*24*3600,1800)\n",
    "ds_fut <- ds_sbc[ds_sbc$t %in% sample_times,]\n",
    "ds_fut <- make_forecast(ds_fut,ps_approx,strat,depth)\n",
    "rms_error <- forecast_error(ds_fut)"
   ]
  },
  {
   "cell_type": "code",
   "execution_count": null,
   "metadata": {},
   "outputs": [],
   "source": [
    "convert_to_date <- function(t){\n",
    "     ret<-as.POSIXct(t + 1473369000 ,origin=\"1970-01-01\")\n",
    "     return(ret)\n",
    "}\n",
    "\n",
    "samp <- ds_fut[sample(nrow(ds_fut),2), ]\n",
    "samp <- samp[1,]\n",
    "out = subset(ds_fut, x%in%samp$x & y%in%samp$y & z%in%samp$z)\n",
    "#time <- as.POSIXct(out$t + 1473369000 ,origin=\"1970-01-01\")\n",
    "time <- convert_to_date(out$t)\n",
    "plot(time,out$dz,type='l',lty=4)\n",
    "lines(time,out$d_est)\n",
    "title(str(samp$z)  )"
   ]
  },
  {
   "cell_type": "code",
   "execution_count": null,
   "metadata": {},
   "outputs": [],
   "source": [
    "plot(convert_to_date(unique(ds_fut$t)),rms_error,type='l')"
   ]
  },
  {
   "cell_type": "markdown",
   "metadata": {},
   "source": [
    "# Modal Analysis"
   ]
  },
  {
   "cell_type": "code",
   "execution_count": null,
   "metadata": {},
   "outputs": [],
   "source": [
    "library('feather')\n",
    "source('../src/inversion.r')\n",
    "source('../src/modes.r')\n",
    "\n",
    "#Ocean profile\n",
    "stratdf <- read_feather('sbc_strat.fthr')\n",
    "strat   <- stratdf$strat\n",
    "depth   <- stratdf$depth\n",
    "\n",
    "#Subsamples Stratification\n",
    "ss <- seq(1,length(strat),5)\n",
    "strat <- strat[ ss ]\n",
    "depth <- depth[ ss ]\n",
    "\n",
    "#Data subsample\n",
    "m1 <- subset(ds_sbc,x==unique(ds_sbc$x)[1] & y==unique(ds_sbc$y)[1] & dz < 50)\n",
    "m2 <- subset(ds_sbc,x==unique(ds_sbc$x)[2] & y==unique(ds_sbc$y)[2])\n",
    "sample_times = seq(0,9*24*3600,1*3600)\n",
    "m1 <- m1[m1$t %in% sample_times,]\n",
    "m2 <- m2[m2$t %in% sample_times,]\n",
    "\n",
    "\n",
    "#Estimate Parameters\n",
    "estimate_params <- function(ds,ps,strat,depth){\n",
    "    ps_approx <- pseudo_invert(ds,ps,strat,depth)\n",
    "    ds_fut <- make_forecast(ds,ps_approx,strat,depth)\n",
    "    return (list(ds=ds_fut,ps=ps_approx))\n",
    "    \n",
    "}\n",
    "\n",
    "M2 <- 0.0805/3600\n",
    "headings  <- c(0)\n",
    "\n",
    "#Case 1\n",
    "modes <- c(1)\n",
    "omega <- c(M2)\n",
    "k  <- generate_wavenumbers(depth,strat,omega,modes)\n",
    "ps <- generate_parameter_space(omega,modes,k,headings) \n",
    "\n",
    "est1_case1 <- estimate_params(m1,ps,strat,depth)\n",
    "est2_case1 <- estimate_params(m2,ps,strat,depth)\n",
    "\n",
    "#Case 2\n",
    "modes <- seq(1,50)\n",
    "omega <- c(M2) \n",
    "k  <- generate_wavenumbers(depth,strat,omega,modes)\n",
    "ps <- generate_parameter_space(omega,modes,k,headings) \n",
    "\n",
    "est1_case2 <- estimate_params(m1,ps,strat,depth)\n",
    "est2_case2 <- estimate_params(m2,ps,strat,depth)\n",
    "\n",
    "#Case 3\n",
    "modes <- seq(1,100)\n",
    "omega <- coh_freqs/3600\n",
    "k  <- generate_wavenumbers(depth,strat,omega,modes)\n",
    "ps <- generate_parameter_space(omega,modes,k,headings) \n",
    "\n",
    "est1_case3 <- estimate_params(m1,ps,strat,depth)\n",
    "est2_case3 <- estimate_params(m2,ps,strat,depth)\n",
    "\n",
    "#head(ds_fut)\n",
    "#head(ps_approx)\n",
    "\n"
   ]
  },
  {
   "cell_type": "code",
   "execution_count": null,
   "metadata": {},
   "outputs": [],
   "source": [
    "#write_feather(est1[['ds']],'50-mode-est1.fthr')\n",
    "#write_feather(est2[['ds']],'50-mode-est2.fthr')"
   ]
  },
  {
   "cell_type": "code",
   "execution_count": null,
   "metadata": {},
   "outputs": [],
   "source": [
    "plot(est1[['ps']]$a)\n",
    "points(est2[['ps']]$a,col='red')"
   ]
  },
  {
   "cell_type": "code",
   "execution_count": null,
   "metadata": {},
   "outputs": [],
   "source": [
    "source('../src//inversion.r')\n",
    "convert_to_date <- function(t){\n",
    "     ret<-as.POSIXct(t + 1473369000 ,origin=\"1970-01-01\")\n",
    "     return(ret)\n",
    "}\n",
    "\n",
    "\n",
    "plot_fit_rs <- function(ests,samples){\n",
    "    colors <- c('red','green','blue')\n",
    "    rs = sample(samples$t,1)\n",
    "    \n",
    "    plot(samples[samples$t == rs,]$dz, samples[samples$t == rs,]$z, ylim = rev(range(samples[samples$t == rs,]$z)),\n",
    "         type='l',lty=2,\n",
    "         xlab='Displacement(m)',\n",
    "         ylab='Depth (m)') \n",
    "    \n",
    "    i<-1\n",
    "    for ( est in ests ){\n",
    "        ds_fut <- est[['ds']]\n",
    "        lines(ds_fut[ds_fut$t == rs,]$d_est, ds_fut[ds_fut$t == rs,]$z,\n",
    "          ylim = rev(range(samples[samples$t == rs,]$z)),lty=1,col=colors[i] )\n",
    "        i<- i + 1\n",
    "    } \n",
    "    title('Random Sample')\n",
    "    title(sub=convert_to_date(rs))\n",
    "\n",
    "}\n",
    "\n",
    "plot_rms_error <- function(ests,samples){\n",
    "    colors <- c('red','green','blue')\n",
    "   \n",
    "    i <- 1\n",
    "    for ( est in ests ){\n",
    "        ds_fut <- est[['ds']]\n",
    "        rms_error <- forecast_error(ds_fut,'z')\n",
    "        zz <- unique(ds_fut$z)\n",
    "       \n",
    "        if (i == 1) {\n",
    "         plot(rms_error,zz,ylim = rev(range(zz) ), \n",
    "             xlab='RMS Error',\n",
    "             ylab='Depth (m)',\n",
    "             type='l',\n",
    "             col=colors[i])\n",
    "            \n",
    "        }else{\n",
    "        lines(rms_error,zz,ylim = rev(range(zz) ),\n",
    "         xlab='RMS Error (m)',\n",
    "         ylab='Depth (m)',\n",
    "         col=colors[i])\n",
    "        }\n",
    "     i<- i + 1\n",
    "    }\n",
    "   title('Mooring RMS Error')\n",
    "}    \n",
    "\n",
    "par(mfrow=c(1,2))\n",
    "plot_fit_rs( list(est1_case1,est1_case2,est1_case3), m1)\n",
    "plot_rms_error( list(est1_case1,est1_case2,est1_case3), m1)\n",
    "legend(\"topright\", legend=c(\"Obs.\", \"M2M01\",\"M2M50\",\"CFM50\"),\n",
    "       col=c(\"black\",\"red\",\"green\", \"blue\"), lty=c(2,1,1,1), cex=0.8)\n"
   ]
  },
  {
   "cell_type": "code",
   "execution_count": null,
   "metadata": {},
   "outputs": [],
   "source": [
    "library('reshape2')\n",
    "erm <- est1_case2[['ds']]\n",
    "erm$error <- erm$dz\n",
    "#erm$error <- sqrt((erm$dz-erm$d_est)**2)/abs(erm$dz)\n",
    "#erm$error[abs(erm$error)>50,] <- 0\n",
    "erm <- acast(erm,t~z,value.var='error')\n",
    "filled.contour(x = convert_to_date(as.numeric(rownames(erm))),\n",
    "               y = as.numeric(colnames(erm)),\n",
    "               z = erm,\n",
    "               zlim = c(-max(abs(erm)),max(abs(erm))),\n",
    "               ylim=rev(range( as.numeric(colnames(erm)))))\n",
    "zlimit <- max(abs(erm))\n",
    "title('Observation')"
   ]
  },
  {
   "cell_type": "code",
   "execution_count": null,
   "metadata": {},
   "outputs": [],
   "source": [
    "\n",
    "erm <- est1_case2[['ds']]\n",
    "erm$error <- erm$d_est\n",
    "erm <- acast(erm,t~z,value.var='error')\n",
    "filled.contour(x = convert_to_date(as.numeric(rownames(erm))),\n",
    "               y = as.numeric(colnames(erm)),\n",
    "               z = erm,\n",
    "               zlim = c(-zlimit,zlimit),\n",
    "               ylim=rev(range( as.numeric(colnames(erm)))))\n",
    "title('Estimate')"
   ]
  },
  {
   "cell_type": "code",
   "execution_count": null,
   "metadata": {},
   "outputs": [],
   "source": [
    "\n",
    "erm <- est1_case2[['ds']]\n",
    "erm$error <- erm$dz- erm$d_est \n",
    "erm <- acast(erm,t~z,value.var='error')\n",
    "filled.contour(x = convert_to_date(as.numeric(rownames(erm))),\n",
    "               y = as.numeric(colnames(erm)),\n",
    "               z = erm,\n",
    "               zlim = c(-zlimit,zlimit),\n",
    "               ylim=rev(range( as.numeric(colnames(erm)))))\n",
    "title('Anomaly from Model (meters)')\n",
    "#dev.off()"
   ]
  },
  {
   "cell_type": "code",
   "execution_count": null,
   "metadata": {},
   "outputs": [],
   "source": [
    "#library('akima')\n",
    "#library(plyr)\n",
    "#dsr<- subset(est1_case3[['ds']],select=c('t','z','d_est'))\n",
    "#dsr<-rename(dsr, c(\"t\"=\"x\",\"z\"=\"y\",\"d_est\"=\"z\"))\n",
    "#\n",
    "#dso<- subset(est1_case2[['ds']],select=c('t','z','d_est'))\n",
    "#dso<- rename(dso, c(\"t\"=\"x\",\"z\"=\"y\",\"d_est\"=\"z\"))\n",
    "#\n",
    "#par(mfrow=c(1,2))\n",
    "#levelplot(z~x*y,data=dsr, panel=panel.levelplot.raster,interpolate=T ,ylim=rev(range(ds$y)))\n",
    "#levelplot(z~x*y,data=dso, panel=panel.levelplot.raster,interpolate=T ,ylim=rev(range(ds$y)))"
   ]
  },
  {
   "cell_type": "code",
   "execution_count": null,
   "metadata": {},
   "outputs": [],
   "source": [
    "\n",
    "p1=atan2( est1[['ps']]$b,est1[['ps']]$a)\n",
    "p2=atan2( est2[['ps']]$b,est2[['ps']]$a)\n",
    "print( 180*(p1-p2)/pi )"
   ]
  },
  {
   "cell_type": "code",
   "execution_count": null,
   "metadata": {},
   "outputs": [],
   "source": [
    "plot(est1_case3[['ps']]$k,mag(est1_case3[['ps']]$a,est1_case3[['ps']]$b))"
   ]
  },
  {
   "cell_type": "code",
   "execution_count": null,
   "metadata": {},
   "outputs": [],
   "source": [
    "params <- est1_case3[['ps']]\n",
    "params$mag <- mag(est1_case3[['ps']]$a,est1_case3[['ps']]$b)\n",
    "qplot(omega, modes, colour = mag/max(mag), data = params) + \n",
    "     scale_colour_gradient(name = \"category\", low = \"white\", high = \"black\")+\n",
    "     theme_bw()"
   ]
  },
  {
   "cell_type": "code",
   "execution_count": null,
   "metadata": {},
   "outputs": [],
   "source": []
  }
 ],
 "metadata": {
  "kernelspec": {
   "display_name": "Python 3",
   "language": "python",
   "name": "python3"
  },
  "language_info": {
   "codemirror_mode": {
    "name": "ipython",
    "version": 3
   },
   "file_extension": ".py",
   "mimetype": "text/x-python",
   "name": "python",
   "nbconvert_exporter": "python",
   "pygments_lexer": "ipython3",
   "version": "3.6.9"
  }
 },
 "nbformat": 4,
 "nbformat_minor": 4
}
